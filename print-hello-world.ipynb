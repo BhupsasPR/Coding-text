{
 "cells": [
  {
   "cell_type": "markdown",
   "metadata": {},
   "source": [
    "# Code Related to Print Statement"
   ]
  },
  {
   "cell_type": "code",
   "execution_count": 1,
   "metadata": {},
   "outputs": [
    {
     "name": "stdout",
     "output_type": "stream",
     "text": [
      "Hello World\n"
     ]
    }
   ],
   "source": [
    "print(\"Hello World\")"
   ]
  },
  {
   "cell_type": "code",
   "execution_count": 2,
   "metadata": {},
   "outputs": [
    {
     "name": "stdout",
     "output_type": "stream",
     "text": [
      "Sum of 3 and 5 is 8. \n"
     ]
    }
   ],
   "source": [
    "a = 3\n",
    "b = 5\n",
    "c = a + b\n",
    "print(\"Sum of {1} and {0} is {2}. \".format(b,a,c))      # String Formatter and place Holder"
   ]
  },
  {
   "cell_type": "code",
   "execution_count": 3,
   "metadata": {},
   "outputs": [
    {
     "name": "stdout",
     "output_type": "stream",
     "text": [
      "My name is Saket and i am discussing python Saket and other person is rajkumar\n"
     ]
    }
   ],
   "source": [
    "a = \"Saket\"\n",
    "b= \"rajkumar\"\n",
    "print(\"My name is {0} and i am discussing python {0} and other person is {1}\".format(a,b))"
   ]
  },
  {
   "cell_type": "code",
   "execution_count": 4,
   "metadata": {},
   "outputs": [
    {
     "name": "stdout",
     "output_type": "stream",
     "text": [
      "Sum of 3 and 5 is :  8\n"
     ]
    }
   ],
   "source": [
    "print(\"Sum of 3 and 5 is : \", c)"
   ]
  },
  {
   "cell_type": "markdown",
   "metadata": {},
   "source": [
    "## If-else"
   ]
  },
  {
   "cell_type": "code",
   "execution_count": 6,
   "metadata": {},
   "outputs": [
    {
     "name": "stdout",
     "output_type": "stream",
     "text": [
      "Number is even\n",
      "it is very good\n"
     ]
    }
   ],
   "source": [
    "a = 4\n",
    "if a%2 == 0:               #Indentation-require for control flow    :\n",
    " print(\"Number is even\")\n",
    " print(\"it is very good\")\n",
    "else:\n",
    "    print(\"Number is odd\")"
   ]
  },
  {
   "cell_type": "code",
   "execution_count": 14,
   "metadata": {},
   "outputs": [
    {
     "name": "stdout",
     "output_type": "stream",
     "text": [
      "Enter the percentage = 22\n",
      "You have entered 22.0 percent\n",
      "Fail\n"
     ]
    }
   ],
   "source": [
    "per = float(input(\"Enter the percentage = \"))   # input always retruns a string\n",
    "print(\"You have entered {0} percent\".format(per))\n",
    "\n",
    "if per >= 75:\n",
    "    print(\"First Division with Honrs.\")   # else if ladder\n",
    "elif per >=60 and per < 75:\n",
    "    print(\"Only First Divion\")\n",
    "elif per >=45 and per < 60:\n",
    "    print(\"Second division\")\n",
    "elif per >= 35 and per < 45:\n",
    "    print(\"Third Division\")\n",
    "else:\n",
    "    print(\"Fail\")\n"
   ]
  },
  {
   "cell_type": "code",
   "execution_count": 15,
   "metadata": {},
   "outputs": [
    {
     "name": "stdout",
     "output_type": "stream",
     "text": [
      "Enter first number:  2\n",
      "Enter second number:  6\n",
      "Enter third number:  5\n"
     ]
    }
   ],
   "source": [
    "### Find the greater among three 3  7, 5\n",
    "a = int(input(\"Enter first number:  \"))\n",
    "b = int(input(\"Enter second number:  \"))\n",
    "c = int(input(\"Enter third number:  \"))"
   ]
  },
  {
   "cell_type": "markdown",
   "metadata": {},
   "source": [
    "# Data Type is python \n",
    "\n",
    "1.List  []\n",
    "2.Tuple (,) separtor working as delimeter \n",
    "3.Set   {}\n",
    "4.Dictonary {k:pv}\n",
    "5.String \" \" \n",
    "6.Document String \"\"\" \"\"\" triple quote\n"
   ]
  },
  {
   "cell_type": "code",
   "execution_count": 1,
   "metadata": {},
   "outputs": [
    {
     "data": {
      "text/plain": [
       "list"
      ]
     },
     "execution_count": 1,
     "metadata": {},
     "output_type": "execute_result"
    }
   ],
   "source": [
    "a=[2,3,5] \n",
    "type (a)\n"
   ]
  },
  {
   "cell_type": "code",
   "execution_count": 3,
   "metadata": {},
   "outputs": [
    {
     "data": {
      "text/plain": [
       "3"
      ]
     },
     "execution_count": 3,
     "metadata": {},
     "output_type": "execute_result"
    }
   ],
   "source": [
    "len (a)"
   ]
  },
  {
   "cell_type": "code",
   "execution_count": 5,
   "metadata": {},
   "outputs": [
    {
     "name": "stdout",
     "output_type": "stream",
     "text": [
      "2\n",
      "3\n",
      "5\n"
     ]
    }
   ],
   "source": [
    "for temp in a:\n",
    "    print (temp)"
   ]
  },
  {
   "cell_type": "code",
   "execution_count": 6,
   "metadata": {},
   "outputs": [
    {
     "data": {
      "text/plain": [
       "[2, 3, 5, 10, 13]"
      ]
     },
     "execution_count": 6,
     "metadata": {},
     "output_type": "execute_result"
    }
   ],
   "source": [
    "a.append(10)\n",
    "a.append(13)\n",
    "a"
   ]
  },
  {
   "cell_type": "code",
   "execution_count": 7,
   "metadata": {},
   "outputs": [
    {
     "data": {
      "text/plain": [
       "[2, 3, 5, 10, 13, 'SAKET']"
      ]
     },
     "execution_count": 7,
     "metadata": {},
     "output_type": "execute_result"
    }
   ],
   "source": [
    "a.append(\"SAKET\")\n",
    "a"
   ]
  },
  {
   "cell_type": "code",
   "execution_count": 8,
   "metadata": {},
   "outputs": [
    {
     "data": {
      "text/plain": [
       "[2, 3, 5, 10, 13, 'SAKET', [8, 19, 24, 25]]"
      ]
     },
     "execution_count": 8,
     "metadata": {},
     "output_type": "execute_result"
    }
   ],
   "source": [
    "b=[8,19,24,25]\n",
    "a.append(b)\n",
    "a"
   ]
  },
  {
   "cell_type": "code",
   "execution_count": 10,
   "metadata": {},
   "outputs": [
    {
     "data": {
      "text/plain": [
       "25"
      ]
     },
     "execution_count": 10,
     "metadata": {},
     "output_type": "execute_result"
    }
   ],
   "source": [
    "b[3]"
   ]
  },
  {
   "cell_type": "code",
   "execution_count": 11,
   "metadata": {},
   "outputs": [
    {
     "data": {
      "text/plain": [
       "[2, 3, 5, 10, 13, 'SAKET', [8, 19, 24, 25], 25]"
      ]
     },
     "execution_count": 11,
     "metadata": {},
     "output_type": "execute_result"
    }
   ],
   "source": [
    "a.append(b[3])\n",
    "a"
   ]
  },
  {
   "cell_type": "code",
   "execution_count": 12,
   "metadata": {},
   "outputs": [
    {
     "data": {
      "text/plain": [
       "8"
      ]
     },
     "execution_count": 12,
     "metadata": {},
     "output_type": "execute_result"
    }
   ],
   "source": [
    "len (a)"
   ]
  },
  {
   "cell_type": "code",
   "execution_count": 14,
   "metadata": {},
   "outputs": [
    {
     "name": "stdout",
     "output_type": "stream",
     "text": [
      "2 <class 'int'>\n",
      "3 <class 'int'>\n",
      "5 <class 'int'>\n",
      "10 <class 'int'>\n",
      "13 <class 'int'>\n",
      "SAKET <class 'str'>\n",
      "[8, 19, 24, 25] <class 'list'>\n",
      "25 <class 'int'>\n"
     ]
    }
   ],
   "source": [
    "for temp in a:\n",
    "    print(temp,type(temp))"
   ]
  },
  {
   "cell_type": "code",
   "execution_count": 15,
   "metadata": {},
   "outputs": [
    {
     "data": {
      "text/plain": [
       "'SAKET'"
      ]
     },
     "execution_count": 15,
     "metadata": {},
     "output_type": "execute_result"
    }
   ],
   "source": [
    "a[5]"
   ]
  },
  {
   "cell_type": "code",
   "execution_count": 16,
   "metadata": {},
   "outputs": [
    {
     "data": {
      "text/plain": [
       "'E'"
      ]
     },
     "execution_count": 16,
     "metadata": {},
     "output_type": "execute_result"
    }
   ],
   "source": [
    "a[5][3]\n"
   ]
  },
  {
   "cell_type": "code",
   "execution_count": 17,
   "metadata": {},
   "outputs": [
    {
     "data": {
      "text/plain": [
       "[8, 19, 24, 25]"
      ]
     },
     "execution_count": 17,
     "metadata": {},
     "output_type": "execute_result"
    }
   ],
   "source": [
    "b"
   ]
  },
  {
   "cell_type": "code",
   "execution_count": 20,
   "metadata": {},
   "outputs": [
    {
     "data": {
      "text/plain": [
       "[2,\n",
       " 3,\n",
       " 5,\n",
       " 10,\n",
       " 13,\n",
       " 'SAKET',\n",
       " [8, 19, 24, 25],\n",
       " 25,\n",
       " 8,\n",
       " 19,\n",
       " 24,\n",
       " 25,\n",
       " 8,\n",
       " 19,\n",
       " 24,\n",
       " 25,\n",
       " 8,\n",
       " 19,\n",
       " 24,\n",
       " 25]"
      ]
     },
     "execution_count": 20,
     "metadata": {},
     "output_type": "execute_result"
    }
   ],
   "source": [
    "a.extend(b)\n",
    "a"
   ]
  },
  {
   "cell_type": "code",
   "execution_count": 21,
   "metadata": {},
   "outputs": [
    {
     "data": {
      "text/plain": [
       "20"
      ]
     },
     "execution_count": 21,
     "metadata": {},
     "output_type": "execute_result"
    }
   ],
   "source": [
    "c=\"saket kumar Chaudary\"\n",
    "len(c)\n"
   ]
  },
  {
   "cell_type": "code",
   "execution_count": 27,
   "metadata": {},
   "outputs": [
    {
     "name": "stdout",
     "output_type": "stream",
     "text": [
      "SAKET KUMAR CHAUDARY\n"
     ]
    },
    {
     "data": {
      "text/plain": [
       "'Saket kumar Chaudary'"
      ]
     },
     "execution_count": 27,
     "metadata": {},
     "output_type": "execute_result"
    }
   ],
   "source": [
    "c.capitalize()\n",
    "print (c.upper())\n",
    "c"
   ]
  },
  {
   "cell_type": "code",
   "execution_count": 28,
   "metadata": {},
   "outputs": [
    {
     "data": {
      "text/plain": [
       "['Saket', 'kumar', 'Chaudary']"
      ]
     },
     "execution_count": 28,
     "metadata": {},
     "output_type": "execute_result"
    }
   ],
   "source": [
    "c.split(\" \") "
   ]
  },
  {
   "cell_type": "code",
   "execution_count": 31,
   "metadata": {},
   "outputs": [
    {
     "data": {
      "text/plain": [
       "['Saket', 'kumar', 'Chaudary']"
      ]
     },
     "execution_count": 31,
     "metadata": {},
     "output_type": "execute_result"
    }
   ],
   "source": [
    "d=c.split (\" \")\n",
    "d"
   ]
  },
  {
   "cell_type": "code",
   "execution_count": 32,
   "metadata": {},
   "outputs": [
    {
     "data": {
      "text/plain": [
       "'u'"
      ]
     },
     "execution_count": 32,
     "metadata": {},
     "output_type": "execute_result"
    }
   ],
   "source": [
    "d[1][1]"
   ]
  },
  {
   "cell_type": "code",
   "execution_count": 35,
   "metadata": {},
   "outputs": [
    {
     "data": {
      "text/plain": [
       "{'NAme': 'SAKET',\n",
       " 'Subject': 'Python',\n",
       " 'Sem': 3,\n",
       " 'Student': ['Bhupesh', 'Rajkumar JI']}"
      ]
     },
     "execution_count": 35,
     "metadata": {},
     "output_type": "execute_result"
    }
   ],
   "source": [
    "e={\"NAme\": \"SAKET\",\n",
    "   \"Subject\":\"Python\",\n",
    "   \"Sem\": 3 ,\n",
    "   \"Student\":[\"Bhupesh\",\"Rajkumar JI\"]    \n",
    "}\n",
    "e"
   ]
  },
  {
   "cell_type": "code",
   "execution_count": 36,
   "metadata": {},
   "outputs": [
    {
     "data": {
      "text/plain": [
       "dict_keys(['NAme', 'Subject', 'Sem', 'Student'])"
      ]
     },
     "execution_count": 36,
     "metadata": {},
     "output_type": "execute_result"
    }
   ],
   "source": [
    "e.keys()\n"
   ]
  },
  {
   "cell_type": "code",
   "execution_count": 37,
   "metadata": {},
   "outputs": [
    {
     "data": {
      "text/plain": [
       "dict_values(['SAKET', 'Python', 3, ['Bhupesh', 'Rajkumar JI']])"
      ]
     },
     "execution_count": 37,
     "metadata": {},
     "output_type": "execute_result"
    }
   ],
   "source": [
    "e.values()"
   ]
  },
  {
   "cell_type": "code",
   "execution_count": 38,
   "metadata": {},
   "outputs": [
    {
     "name": "stdout",
     "output_type": "stream",
     "text": [
      "NAme SAKET\n",
      "Subject Python\n",
      "Sem 3\n",
      "Student ['Bhupesh', 'Rajkumar JI']\n"
     ]
    }
   ],
   "source": [
    "for k,v in e.items():\n",
    "    print (k,v)"
   ]
  },
  {
   "cell_type": "code",
   "execution_count": 41,
   "metadata": {},
   "outputs": [
    {
     "data": {
      "text/plain": [
       "(2, 3)"
      ]
     },
     "execution_count": 41,
     "metadata": {},
     "output_type": "execute_result"
    }
   ],
   "source": [
    "f=2,3\n",
    "f"
   ]
  },
  {
   "cell_type": "code",
   "execution_count": 43,
   "metadata": {},
   "outputs": [
    {
     "data": {
      "text/plain": [
       "{2, 3, 4, 6, 7, 8}"
      ]
     },
     "execution_count": 43,
     "metadata": {},
     "output_type": "execute_result"
    }
   ],
   "source": [
    "a1=[1,2,2,4,3,3,4]\n",
    "a2=[2,4,6,7,3,8,6]\n",
    "b1=set(a1)\n",
    "b2=set(a2)\n",
    "b1\n",
    "b2"
   ]
  },
  {
   "cell_type": "code",
   "execution_count": 44,
   "metadata": {},
   "outputs": [
    {
     "data": {
      "text/plain": [
       "{2, 3, 4}"
      ]
     },
     "execution_count": 44,
     "metadata": {},
     "output_type": "execute_result"
    }
   ],
   "source": [
    "b1.intersection(b2)\n"
   ]
  },
  {
   "cell_type": "code",
   "execution_count": 45,
   "metadata": {},
   "outputs": [
    {
     "data": {
      "text/plain": [
       "{1, 2, 3, 4, 6, 7, 8}"
      ]
     },
     "execution_count": 45,
     "metadata": {},
     "output_type": "execute_result"
    }
   ],
   "source": [
    "b1.union(b2)\n"
   ]
  },
  {
   "cell_type": "code",
   "execution_count": 46,
   "metadata": {},
   "outputs": [
    {
     "data": {
      "text/plain": [
       "{1}"
      ]
     },
     "execution_count": 46,
     "metadata": {},
     "output_type": "execute_result"
    }
   ],
   "source": [
    "b1.difference(b2)\n"
   ]
  },
  {
   "cell_type": "code",
   "execution_count": 50,
   "metadata": {},
   "outputs": [
    {
     "data": {
      "text/plain": [
       "6"
      ]
     },
     "execution_count": 50,
     "metadata": {},
     "output_type": "execute_result"
    }
   ],
   "source": [
    "def square(x):\n",
    "    return x*2\n",
    "square(3)\n"
   ]
  },
  {
   "cell_type": "code",
   "execution_count": 51,
   "metadata": {},
   "outputs": [
    {
     "data": {
      "text/plain": [
       "'saketsaket'"
      ]
     },
     "execution_count": 51,
     "metadata": {},
     "output_type": "execute_result"
    }
   ],
   "source": [
    "square(\"saket\")"
   ]
  },
  {
   "cell_type": "markdown",
   "metadata": {},
   "source": [
    "# parameter passing techniques\n",
    "1.copy value technique\n",
    "2.default value technique\n",
    "3.keyword argument technique\n",
    "4.pass a list\n",
    "5.pass a dictionary\n"
   ]
  },
  {
   "cell_type": "code",
   "execution_count": 1,
   "metadata": {},
   "outputs": [
    {
     "data": {
      "text/plain": [
       "36"
      ]
     },
     "execution_count": 1,
     "metadata": {},
     "output_type": "execute_result"
    }
   ],
   "source": [
    "def volume_cubid (length,height,width):\n",
    "    return length*height*width\n",
    "volume_cubid(2,3,6)\n"
   ]
  },
  {
   "cell_type": "markdown",
   "metadata": {},
   "source": [
    "# Default value "
   ]
  },
  {
   "cell_type": "code",
   "execution_count": 2,
   "metadata": {},
   "outputs": [
    {
     "data": {
      "text/plain": [
       "180"
      ]
     },
     "execution_count": 2,
     "metadata": {},
     "output_type": "execute_result"
    }
   ],
   "source": [
    "def volume_cubid1 (length=2,height=3,width=6):\n",
    "    return length*height*width\n",
    "volume_cubid1(5,6)\n",
    "\n",
    "\n",
    "\n"
   ]
  },
  {
   "cell_type": "markdown",
   "metadata": {},
   "source": [
    "# Keyword argument \n"
   ]
  },
  {
   "cell_type": "code",
   "execution_count": 3,
   "metadata": {},
   "outputs": [
    {
     "name": "stdout",
     "output_type": "stream",
     "text": [
      "240 270\n"
     ]
    }
   ],
   "source": [
    "def volume_cubid1 (length=2,height=3,width=6):\n",
    "    return length*height*width\n",
    "v1=volume_cubid1(length=5,height=6,width=8)\n",
    "v2=volume_cubid1(length=5,height=6,width=9)\n",
    "print(v1,v2)\n",
    "\n"
   ]
  },
  {
   "cell_type": "code",
   "execution_count": 6,
   "metadata": {},
   "outputs": [
    {
     "name": "stdout",
     "output_type": "stream",
     "text": [
      "240 270\n"
     ]
    }
   ],
   "source": [
    "def volume_cubid2 (length,height,width=6):\n",
    "    return length*height*width\n",
    "v1=volume_cubid2(length=5,height=6,width=8)\n",
    "v2=volume_cubid2(length=5,height=6,width=9)\n",
    "print(v1,v2)\n"
   ]
  },
  {
   "cell_type": "markdown",
   "metadata": {},
   "source": [
    "# pass a list "
   ]
  },
  {
   "cell_type": "code",
   "execution_count": 8,
   "metadata": {},
   "outputs": [
    {
     "data": {
      "text/plain": [
       "38"
      ]
     },
     "execution_count": 8,
     "metadata": {},
     "output_type": "execute_result"
    }
   ],
   "source": [
    "def print_sum (*value):\n",
    "    sum=0 \n",
    "    for i in value:\n",
    "        sum=sum+i\n",
    "    return sum\n",
    "print_sum(2,3,4,5,6,7,11)"
   ]
  },
  {
   "cell_type": "code",
   "execution_count": 14,
   "metadata": {},
   "outputs": [
    {
     "data": {
      "text/plain": [
       "15"
      ]
     },
     "execution_count": 14,
     "metadata": {},
     "output_type": "execute_result"
    }
   ],
   "source": [
    "def print_sum (*value):\n",
    "    sum=0 \n",
    "    s=[]\n",
    "    j=0\n",
    "    for i in value:\n",
    "        s.append (i)\n",
    "    while j < len(s):\n",
    "        if (j+1)%2==0:\n",
    "            sum=sum+s[j]\n",
    "        j=j+1\n",
    "    return sum\n",
    "print_sum(2,3,4,5,6,7,11)\n",
    "\n"
   ]
  },
  {
   "cell_type": "code",
   "execution_count": 17,
   "metadata": {},
   "outputs": [
    {
     "name": "stdout",
     "output_type": "stream",
     "text": [
      "[2]\n",
      "[2, 3]\n",
      "[2, 3, 4]\n",
      "[2, 3, 4, 5]\n",
      "[2, 3, 4, 5, 6]\n",
      "[2, 3, 4, 5, 6, 7]\n",
      "[2, 3, 4, 5, 6, 7, 11]\n",
      "1\n",
      "3\n",
      "5\n",
      "7\n"
     ]
    },
    {
     "data": {
      "text/plain": [
       "15"
      ]
     },
     "execution_count": 17,
     "metadata": {},
     "output_type": "execute_result"
    }
   ],
   "source": [
    "def print_sum (*value):\n",
    "    sum=0 \n",
    "    s=[]\n",
    "    j=0\n",
    "    \n",
    "    for i in value:\n",
    "        s.append (i)\n",
    "        print(s)\n",
    "    while j < len(s):\n",
    "        if (j+1)%2==0:\n",
    "            sum=sum+s[j]\n",
    "            print(j)\n",
    "        j=j+1\n",
    "    print (j)\n",
    "    return sum\n",
    "print_sum(2,3,4,5,6,7,11)\n"
   ]
  },
  {
   "cell_type": "code",
   "execution_count": 20,
   "metadata": {},
   "outputs": [
    {
     "name": "stdout",
     "output_type": "stream",
     "text": [
      "Saket\n",
      "Bhupesh\n",
      "2\n",
      "3.5\n",
      "8\n",
      "[2, 3]\n",
      "(5, 6)\n"
     ]
    }
   ],
   "source": [
    "def print_name(*names):\n",
    "    for n in names:\n",
    "        print(n)\n",
    "    return\n",
    "print_name(\"Saket\",\"Bhupesh\",2,3.5,8,[2,3],(5,6))"
   ]
  },
  {
   "cell_type": "code",
   "execution_count": 21,
   "metadata": {},
   "outputs": [
    {
     "name": "stdout",
     "output_type": "stream",
     "text": [
      "Name saket\n",
      "force 5\n"
     ]
    }
   ],
   "source": [
    "def print_person (**person):\n",
    "    for i in person:\n",
    "        print(i,person[i])\n",
    "    return\n",
    "print_person(Name=\"saket\",force=5)"
   ]
  },
  {
   "cell_type": "markdown",
   "metadata": {},
   "source": [
    "# pass in list and distonary "
   ]
  },
  {
   "cell_type": "code",
   "execution_count": 25,
   "metadata": {},
   "outputs": [
    {
     "name": "stdout",
     "output_type": "stream",
     "text": [
      "Name\n",
      "force\n"
     ]
    }
   ],
   "source": [
    "def print_person (**person):\n",
    "    for i in person:\n",
    "        print(i)\n",
    "    return\n",
    "print_person(Name=\"saket\",force=5)"
   ]
  },
  {
   "cell_type": "code",
   "execution_count": 26,
   "metadata": {},
   "outputs": [
    {
     "name": "stdout",
     "output_type": "stream",
     "text": [
      "2\n",
      "3\n",
      "4\n",
      "4 Saket\n",
      "4 7\n"
     ]
    }
   ],
   "source": [
    "def print_data (*kw1,**kw2):\n",
    "    for k in kw1:\n",
    "        print (k)\n",
    "    for k2 in kw2:\n",
    "        print(k,kw2[k2])\n",
    "    return\n",
    "print_data(2,3,4,name=\"Saket\",force=7)\n",
    "        "
   ]
  },
  {
   "cell_type": "markdown",
   "metadata": {},
   "source": [
    "# Range Funtion"
   ]
  },
  {
   "cell_type": "code",
   "execution_count": 28,
   "metadata": {},
   "outputs": [
    {
     "name": "stdout",
     "output_type": "stream",
     "text": [
      "0\n",
      "1\n",
      "2\n",
      "3\n",
      "4\n",
      "5\n",
      "6\n",
      "7\n",
      "8\n",
      "9\n"
     ]
    }
   ],
   "source": [
    "for i in range(10):\n",
    "    print(i)"
   ]
  },
  {
   "cell_type": "code",
   "execution_count": 29,
   "metadata": {},
   "outputs": [
    {
     "name": "stdout",
     "output_type": "stream",
     "text": [
      "3\n",
      "4\n",
      "5\n",
      "6\n",
      "7\n",
      "8\n",
      "9\n"
     ]
    }
   ],
   "source": [
    "for i in range(3,10):\n",
    "    print(i)"
   ]
  },
  {
   "cell_type": "code",
   "execution_count": 30,
   "metadata": {},
   "outputs": [
    {
     "name": "stdout",
     "output_type": "stream",
     "text": [
      "3\n",
      "5\n",
      "7\n",
      "9\n"
     ]
    }
   ],
   "source": [
    "for i in range(3,10,2):\n",
    "    print(i)"
   ]
  },
  {
   "cell_type": "code",
   "execution_count": 33,
   "metadata": {},
   "outputs": [
    {
     "name": "stdout",
     "output_type": "stream",
     "text": [
      "1\n",
      "4\n",
      "7\n",
      "10\n",
      "13\n",
      "16\n",
      "19\n",
      "22\n",
      "25\n",
      "28\n",
      "31\n",
      "34\n",
      "37\n",
      "40\n",
      "43\n",
      "46\n",
      "49\n",
      "52\n",
      "55\n",
      "58\n",
      "61\n",
      "64\n",
      "67\n",
      "70\n",
      "73\n",
      "76\n",
      "79\n",
      "82\n",
      "85\n",
      "88\n",
      "91\n",
      "94\n",
      "97\n"
     ]
    }
   ],
   "source": [
    "for i in range(1,100,3):\n",
    "    print(i)"
   ]
  },
  {
   "cell_type": "code",
   "execution_count": 39,
   "metadata": {},
   "outputs": [
    {
     "name": "stdout",
     "output_type": "stream",
     "text": [
      "[1, 4, 5, 6, 7, 19, 30, 29, 58, 68, 90, 80, 45]\n",
      "45\n",
      "45\n",
      "[1, 4, 5, 6, 7, 19, 30]\n",
      "[6, 7, 19, 30]\n",
      "[1, 5, 7, 30, 58, 90, 45]\n"
     ]
    }
   ],
   "source": [
    "a=[1,4,5,6,7,19,30,29,58,68,90,80,45]\n",
    "print(a)\n",
    "print(a[len(a)-1])\n",
    "print(a[-1])\n",
    "print (a[:7])\n",
    "print(a[3:7])\n",
    "print (a[::2])"
   ]
  },
  {
   "cell_type": "code",
   "execution_count": 45,
   "metadata": {},
   "outputs": [
    {
     "name": "stdout",
     "output_type": "stream",
     "text": [
      "[[2, 3, 5], [78, 98, 90], [56, 57]]\n",
      "3 90\n",
      "[3, 5]\n"
     ]
    }
   ],
   "source": [
    "a=[[2,3,5],[78,98,90],[56,57]]\n",
    "print(a)\n",
    "print(a[0][1],a[1][2])\n",
    "print(a[0][1:3])"
   ]
  },
  {
   "cell_type": "markdown",
   "metadata": {},
   "source": [
    "# file Handling "
   ]
  },
  {
   "cell_type": "code",
   "execution_count": 47,
   "metadata": {},
   "outputs": [],
   "source": [
    "file_name=\"text.txt\"\n",
    "f=open(file_name,\"w\")\n",
    "f.write(\"Saket\")\n",
    "f.close()\n"
   ]
  },
  {
   "cell_type": "code",
   "execution_count": 49,
   "metadata": {},
   "outputs": [],
   "source": [
    "f=open(file_name,\"a\")\n",
    "f.write(\"\\nBhupesh\")\n",
    "f.close()\n"
   ]
  },
  {
   "cell_type": "code",
   "execution_count": 51,
   "metadata": {},
   "outputs": [
    {
     "name": "stdout",
     "output_type": "stream",
     "text": [
      "SaketBhupesh\n",
      "Bhupesh\n"
     ]
    }
   ],
   "source": [
    "f=open(file_name,\"r\")\n",
    "print(f.read())\n",
    "f.close()\n"
   ]
  },
  {
   "cell_type": "code",
   "execution_count": 53,
   "metadata": {},
   "outputs": [
    {
     "name": "stdout",
     "output_type": "stream",
     "text": [
      "SaketBhupesh\n",
      "\n",
      "Bhupesh\n"
     ]
    }
   ],
   "source": [
    "f=open(file_name)\n",
    "for line in f.readlines():\n",
    "    print (line)\n",
    "f.close()"
   ]
  },
  {
   "cell_type": "markdown",
   "metadata": {},
   "source": [
    "# import json"
   ]
  },
  {
   "cell_type": "code",
   "execution_count": 1,
   "metadata": {},
   "outputs": [],
   "source": [
    "import json"
   ]
  },
  {
   "cell_type": "code",
   "execution_count": 3,
   "metadata": {},
   "outputs": [
    {
     "data": {
      "text/plain": [
       "{'Name': 'Bhupesh', 'Address': '2323,sector2', 'contact': 8884809900}"
      ]
     },
     "execution_count": 3,
     "metadata": {},
     "output_type": "execute_result"
    }
   ],
   "source": [
    "filename=\"Testjson.json\"\n",
    "doc={\n",
    "    \"Name\":\"Bhupesh\",\n",
    "    \"Address\":\"2323,sector2\",\n",
    "    \"contact\":8884809900\n",
    "}\n",
    "doc"
   ]
  },
  {
   "cell_type": "code",
   "execution_count": 6,
   "metadata": {},
   "outputs": [
    {
     "name": "stdout",
     "output_type": "stream",
     "text": [
      "<_io.TextIOWrapper name='Testjson.json' mode='w' encoding='cp1252'>\n"
     ]
    }
   ],
   "source": [
    "with open (filename,\"w\") as f:\n",
    "    json.dump(doc,f,indent=4)\n",
    "f.close()"
   ]
  },
  {
   "cell_type": "code",
   "execution_count": null,
   "metadata": {},
   "outputs": [],
   "source": [
    "with open (filename,\"w\") as f:\n",
    "    json.dump(doc,f,indent=4)\n",
    "f.close()"
   ]
  }
 ],
 "metadata": {
  "kernelspec": {
   "display_name": "Python 3",
   "language": "python",
   "name": "python3"
  },
  "language_info": {
   "codemirror_mode": {
    "name": "ipython",
    "version": 3
   },
   "file_extension": ".py",
   "mimetype": "text/x-python",
   "name": "python",
   "nbconvert_exporter": "python",
   "pygments_lexer": "ipython3",
   "version": "3.7.6"
  }
 },
 "nbformat": 4,
 "nbformat_minor": 4
}
